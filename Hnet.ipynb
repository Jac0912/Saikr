{
 "cells": [
  {
   "cell_type": "code",
   "execution_count": null,
   "metadata": {},
   "outputs": [],
   "source": [
    "import torch\n",
    "import torchvision"
   ]
  },
  {
   "cell_type": "code",
   "execution_count": null,
   "metadata": {},
   "outputs": [],
   "source": [
    "from torch import nn\n",
    "class Downsample_block(nn.Module):\n",
    "    def __init__(self,in_channels=3,out_channels=64,kernel_size = 3,*args, **kwargs):\n",
    "        super().__init__(*args, **kwargs)\n",
    "        self.layer1 = nn.Conv2d(in_channels,out_channels,kernel_size)\n",
    "        self.relu1 = nn.ReLU(inplace=True)\n",
    "        self.layer2 = nn.Conv2d(out_channels,out_channels,kernel_size)\n",
    "        self.relu2 = nn.ReLU(inplace=True)\n",
    "        self.pooling = nn.MaxPool2d(kernel_size=2,stride=2)\n",
    "\n",
    "    def forward(self,x):\n",
    "        x = self.layer1(x)\n",
    "        x = self.relu1(x)\n",
    "        x = self.layer2(x)\n",
    "        x = self.relu2(x)\n",
    "        return self.pooling(x)\n",
    "    \n",
    "    def copy(self,x):\n",
    "        with torch.no_grad():\n",
    "            x = self.layer1(x)\n",
    "            x = self.relu1(x)\n",
    "            x = self.layer2(x)\n",
    "            x = self.relu2(x)\n",
    "            return x\n",
    "\n"
   ]
  },
  {
   "cell_type": "code",
   "execution_count": null,
   "metadata": {},
   "outputs": [],
   "source": [
    "class Upsampler(nn.Module):\n",
    "    def __init__(self, in_channels,mid_channels,out_channels,*args, **kwargs):\n",
    "        super().__init__(*args, **kwargs)\n",
    "        self.mod = nn.Sequential(\n",
    "         nn.Conv2d(in_channels,mid_channels,3),\n",
    "         nn.ReLU(),\n",
    "         nn.Conv2d(mid_channels,mid_channels,3),\n",
    "         nn.Conv2d(mid_channels,mid_channels,3),\n",
    "         nn.ConvTranspose2d(mid_channels,out_channels,2))\n",
    "    def forward(self,x):\n",
    "        return self.mod(x)"
   ]
  },
  {
   "cell_type": "code",
   "execution_count": null,
   "metadata": {},
   "outputs": [],
   "source": [
    "class Hnet(nn.Module):\n",
    "    def __init__(self,in_channels,num_classes,*args, **kwargs) -> None:\n",
    "        super().__init__(*args, **kwargs)\n",
    "        self.downsampler1 = Downsample_block(in_channels)\n",
    "        self.downsampler2 = Downsample_block(64,128)\n",
    "        self.downsampler3 = Downsample_block(128,256)\n",
    "        self.downsampler4 = Downsample_block(256,512)\n",
    "        self.upsampler1 = Upsampler(512,1024,512)\n",
    "        self.upsampler2 = Upsampler(1024,512,256)\n",
    "        self.upsampler3 = Upsampler(512,256,128)\n",
    "        self.upsampler4 = Upsampler(256,128,64)\n",
    "        self.compute_res = nn.Sequential(\n",
    "            *list(Downsample_block(128,64).children())[:-1],\n",
    "            nn.Conv2d(64,num_classes,1)\n",
    "        )\n",
    "        self.attention = \n",
    "    \n",
    "    def cut_tensor(X,target_tensor):\n",
    "        shape_tgt = target_tensor.shape[-1]#图片是正方形的\n",
    "        shape_src = X.shape[-1]\n",
    "        delta = (shape_src-shape_tgt)/2\n",
    "        return X[:,:,delta:shape_src-delta,delta:shape_src-delta]"
   ]
  },
  {
   "cell_type": "code",
   "execution_count": null,
   "metadata": {},
   "outputs": [],
   "source": []
  },
  {
   "cell_type": "code",
   "execution_count": null,
   "metadata": {},
   "outputs": [],
   "source": []
  }
 ],
 "metadata": {
  "language_info": {
   "name": "python"
  }
 },
 "nbformat": 4,
 "nbformat_minor": 2
}
